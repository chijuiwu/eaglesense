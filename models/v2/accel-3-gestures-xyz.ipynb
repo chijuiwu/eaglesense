{
 "cells": [
  {
   "cell_type": "code",
   "execution_count": null,
   "metadata": {},
   "outputs": [],
   "source": [
    "%matplotlib inline\n",
    "\n",
    "import math\n",
    "import copy\n",
    "import numpy as np\n",
    "from scipy import stats\n",
    "from itertools import permutations\n",
    "import pandas as pd\n",
    "import matplotlib as mpl\n",
    "import matplotlib.pyplot as plt\n",
    "import seaborn as sns\n",
    "from scipy.spatial.distance import euclidean\n",
    "from fastdtw import fastdtw\n",
    "from sklearn.neighbors import KNeighborsClassifier\n",
    "from sklearn import svm\n",
    "from sklearn.ensemble import RandomForestClassifier, GradientBoostingClassifier\n",
    "from sklearn.naive_bayes import GaussianNB\n",
    "from sklearn.model_selection import train_test_split, StratifiedShuffleSplit, learning_curve\n",
    "from sklearn.metrics import accuracy_score, f1_score\n",
    "import xgboost as xgb\n",
    "import pickle"
   ]
  },
  {
   "cell_type": "code",
   "execution_count": 3,
   "metadata": {},
   "outputs": [],
   "source": [
    "sensor_data = pd.read_csv(\"D:\\\\p_eaglesense\\\\eaglesense\\\\data\\\\topviewkinect\\\\3039\\\\android_sensor_data.csv\")"
   ]
  },
  {
   "cell_type": "code",
   "execution_count": 4,
   "metadata": {},
   "outputs": [
    {
     "data": {
      "text/html": [
       "<div>\n",
       "<style>\n",
       "    .dataframe thead tr:only-child th {\n",
       "        text-align: right;\n",
       "    }\n",
       "\n",
       "    .dataframe thead th {\n",
       "        text-align: left;\n",
       "    }\n",
       "\n",
       "    .dataframe tbody tr th {\n",
       "        vertical-align: top;\n",
       "    }\n",
       "</style>\n",
       "<table border=\"1\" class=\"dataframe\">\n",
       "  <thead>\n",
       "    <tr style=\"text-align: right;\">\n",
       "      <th></th>\n",
       "      <th>frame_id</th>\n",
       "      <th>depth_time</th>\n",
       "      <th>addr</th>\n",
       "      <th>time</th>\n",
       "      <th>accel_x</th>\n",
       "      <th>accel_y</th>\n",
       "      <th>accel_z</th>\n",
       "      <th>gyro_x</th>\n",
       "      <th>gyro_y</th>\n",
       "      <th>gyro_z</th>\n",
       "      <th>...</th>\n",
       "      <th>linear_accel_x</th>\n",
       "      <th>linear_accel_y</th>\n",
       "      <th>linear_accel_z</th>\n",
       "      <th>gravity_x</th>\n",
       "      <th>gravity_y</th>\n",
       "      <th>gravity_z</th>\n",
       "      <th>rotation_x</th>\n",
       "      <th>rotation_y</th>\n",
       "      <th>rotation_z</th>\n",
       "      <th>label</th>\n",
       "    </tr>\n",
       "  </thead>\n",
       "  <tbody>\n",
       "    <tr>\n",
       "      <th>0</th>\n",
       "      <td>0</td>\n",
       "      <td>0</td>\n",
       "      <td>10.32.114.115:38932</td>\n",
       "      <td>0.00000</td>\n",
       "      <td>-0.13</td>\n",
       "      <td>0.128</td>\n",
       "      <td>9.758</td>\n",
       "      <td>0.0</td>\n",
       "      <td>8978685.0</td>\n",
       "      <td>0.0</td>\n",
       "      <td>...</td>\n",
       "      <td>0.0</td>\n",
       "      <td>0.0</td>\n",
       "      <td>0.0</td>\n",
       "      <td>6.595770e+12</td>\n",
       "      <td>0.0</td>\n",
       "      <td>50549.5625</td>\n",
       "      <td>0.0</td>\n",
       "      <td>50552.78125</td>\n",
       "      <td>0.0</td>\n",
       "      <td>0</td>\n",
       "    </tr>\n",
       "    <tr>\n",
       "      <th>1</th>\n",
       "      <td>0</td>\n",
       "      <td>0</td>\n",
       "      <td>10.32.114.115:38932</td>\n",
       "      <td>0.00482</td>\n",
       "      <td>-0.13</td>\n",
       "      <td>0.128</td>\n",
       "      <td>9.758</td>\n",
       "      <td>0.0</td>\n",
       "      <td>8978685.0</td>\n",
       "      <td>0.0</td>\n",
       "      <td>...</td>\n",
       "      <td>0.0</td>\n",
       "      <td>0.0</td>\n",
       "      <td>0.0</td>\n",
       "      <td>6.595770e+12</td>\n",
       "      <td>0.0</td>\n",
       "      <td>50549.5625</td>\n",
       "      <td>0.0</td>\n",
       "      <td>50552.78125</td>\n",
       "      <td>0.0</td>\n",
       "      <td>0</td>\n",
       "    </tr>\n",
       "    <tr>\n",
       "      <th>2</th>\n",
       "      <td>0</td>\n",
       "      <td>0</td>\n",
       "      <td>10.32.114.115:38932</td>\n",
       "      <td>0.00961</td>\n",
       "      <td>-0.13</td>\n",
       "      <td>0.128</td>\n",
       "      <td>9.758</td>\n",
       "      <td>0.0</td>\n",
       "      <td>8978685.0</td>\n",
       "      <td>0.0</td>\n",
       "      <td>...</td>\n",
       "      <td>0.0</td>\n",
       "      <td>0.0</td>\n",
       "      <td>0.0</td>\n",
       "      <td>6.595770e+12</td>\n",
       "      <td>0.0</td>\n",
       "      <td>50549.5625</td>\n",
       "      <td>0.0</td>\n",
       "      <td>50552.78125</td>\n",
       "      <td>0.0</td>\n",
       "      <td>0</td>\n",
       "    </tr>\n",
       "    <tr>\n",
       "      <th>3</th>\n",
       "      <td>0</td>\n",
       "      <td>0</td>\n",
       "      <td>10.32.114.115:38932</td>\n",
       "      <td>0.01348</td>\n",
       "      <td>-0.13</td>\n",
       "      <td>0.128</td>\n",
       "      <td>9.758</td>\n",
       "      <td>0.0</td>\n",
       "      <td>8978685.0</td>\n",
       "      <td>0.0</td>\n",
       "      <td>...</td>\n",
       "      <td>0.0</td>\n",
       "      <td>0.0</td>\n",
       "      <td>0.0</td>\n",
       "      <td>6.595770e+12</td>\n",
       "      <td>0.0</td>\n",
       "      <td>50549.5625</td>\n",
       "      <td>0.0</td>\n",
       "      <td>50552.78125</td>\n",
       "      <td>0.0</td>\n",
       "      <td>0</td>\n",
       "    </tr>\n",
       "    <tr>\n",
       "      <th>4</th>\n",
       "      <td>0</td>\n",
       "      <td>0</td>\n",
       "      <td>10.32.114.115:38932</td>\n",
       "      <td>0.01831</td>\n",
       "      <td>-0.13</td>\n",
       "      <td>0.128</td>\n",
       "      <td>9.758</td>\n",
       "      <td>0.0</td>\n",
       "      <td>8978685.0</td>\n",
       "      <td>0.0</td>\n",
       "      <td>...</td>\n",
       "      <td>0.0</td>\n",
       "      <td>0.0</td>\n",
       "      <td>0.0</td>\n",
       "      <td>6.595770e+12</td>\n",
       "      <td>0.0</td>\n",
       "      <td>50549.5625</td>\n",
       "      <td>0.0</td>\n",
       "      <td>50552.78125</td>\n",
       "      <td>0.0</td>\n",
       "      <td>0</td>\n",
       "    </tr>\n",
       "  </tbody>\n",
       "</table>\n",
       "<p>5 rows × 23 columns</p>\n",
       "</div>"
      ],
      "text/plain": [
       "   frame_id  depth_time                 addr     time  accel_x  accel_y  \\\n",
       "0         0           0  10.32.114.115:38932  0.00000    -0.13    0.128   \n",
       "1         0           0  10.32.114.115:38932  0.00482    -0.13    0.128   \n",
       "2         0           0  10.32.114.115:38932  0.00961    -0.13    0.128   \n",
       "3         0           0  10.32.114.115:38932  0.01348    -0.13    0.128   \n",
       "4         0           0  10.32.114.115:38932  0.01831    -0.13    0.128   \n",
       "\n",
       "   accel_z  gyro_x     gyro_y  gyro_z  ...    linear_accel_x  linear_accel_y  \\\n",
       "0    9.758     0.0  8978685.0     0.0  ...               0.0             0.0   \n",
       "1    9.758     0.0  8978685.0     0.0  ...               0.0             0.0   \n",
       "2    9.758     0.0  8978685.0     0.0  ...               0.0             0.0   \n",
       "3    9.758     0.0  8978685.0     0.0  ...               0.0             0.0   \n",
       "4    9.758     0.0  8978685.0     0.0  ...               0.0             0.0   \n",
       "\n",
       "   linear_accel_z     gravity_x  gravity_y   gravity_z  rotation_x  \\\n",
       "0             0.0  6.595770e+12        0.0  50549.5625         0.0   \n",
       "1             0.0  6.595770e+12        0.0  50549.5625         0.0   \n",
       "2             0.0  6.595770e+12        0.0  50549.5625         0.0   \n",
       "3             0.0  6.595770e+12        0.0  50549.5625         0.0   \n",
       "4             0.0  6.595770e+12        0.0  50549.5625         0.0   \n",
       "\n",
       "    rotation_y  rotation_z  label  \n",
       "0  50552.78125         0.0      0  \n",
       "1  50552.78125         0.0      0  \n",
       "2  50552.78125         0.0      0  \n",
       "3  50552.78125         0.0      0  \n",
       "4  50552.78125         0.0      0  \n",
       "\n",
       "[5 rows x 23 columns]"
      ]
     },
     "execution_count": 4,
     "metadata": {},
     "output_type": "execute_result"
    }
   ],
   "source": [
    "sensor_data.head()"
   ]
  },
  {
   "cell_type": "code",
   "execution_count": 5,
   "metadata": {},
   "outputs": [
    {
     "data": {
      "text/plain": [
       "Text(0.5,1,'linear accel Z')"
      ]
     },
     "execution_count": 5,
     "metadata": {},
     "output_type": "execute_result"
    },
    {
     "data": {
      "image/png": "[encoded data removed]",
      "text/plain": [
       "<matplotlib.figure.Figure at 0x207ad4053c8>"
      ]
     },
     "metadata": {},
     "output_type": "display_data"
    }
   ],
   "source": [
    "f = plt.figure(figsize=(12,3))\n",
    "\n",
    "linear_accel_x_ax = f.add_subplot(131)\n",
    "linear_accel_x_ax.plot(sensor_data[\"time\"], sensor_data[\"linear_accel_x\"], 'r')\n",
    "plt.title('linear accel X')\n",
    "\n",
    "linear_accel_y_ax = f.add_subplot(132)\n",
    "linear_accel_y_ax.plot(sensor_data[\"time\"], sensor_data[\"linear_accel_y\"], 'g')\n",
    "plt.title('linear accel Y')\n",
    "\n",
    "linear_accel_z_ax = f.add_subplot(133)\n",
    "linear_accel_z_ax.plot(sensor_data[\"time\"], sensor_data[\"linear_accel_z\"], 'b')\n",
    "plt.title('linear accel Z')"
   ]
  },
  {
   "cell_type": "code",
   "execution_count": 6,
   "metadata": {},
   "outputs": [
    {
     "data": {
      "text/plain": [
       "array([0, 1, 2], dtype=int64)"
      ]
     },
     "execution_count": 6,
     "metadata": {},
     "output_type": "execute_result"
    }
   ],
   "source": [
    "pd.unique(sensor_data[\"label\"])"
   ]
  },
  {
   "cell_type": "code",
   "execution_count": 7,
   "metadata": {},
   "outputs": [],
   "source": [
    "g_rest_indices = sensor_data.index[sensor_data[\"label\"] == 0].tolist()"
   ]
  },
  {
   "cell_type": "code",
   "execution_count": 8,
   "metadata": {},
   "outputs": [
    {
     "data": {
      "text/plain": [
       "33957"
      ]
     },
     "execution_count": 8,
     "metadata": {},
     "output_type": "execute_result"
    }
   ],
   "source": [
    "len(g_rest_indices)"
   ]
  },
  {
   "cell_type": "code",
   "execution_count": 9,
   "metadata": {},
   "outputs": [],
   "source": [
    "g_inward_indices = sensor_data.index[sensor_data[\"label\"] == 1].tolist()"
   ]
  },
  {
   "cell_type": "code",
   "execution_count": 10,
   "metadata": {},
   "outputs": [
    {
     "data": {
      "text/plain": [
       "15136"
      ]
     },
     "execution_count": 10,
     "metadata": {},
     "output_type": "execute_result"
    }
   ],
   "source": [
    "len(g_inward_indices)"
   ]
  },
  {
   "cell_type": "code",
   "execution_count": 11,
   "metadata": {},
   "outputs": [],
   "source": [
    "g_outward_indices = sensor_data.index[sensor_data[\"label\"] == 2].tolist()"
   ]
  },
  {
   "cell_type": "code",
   "execution_count": 12,
   "metadata": {},
   "outputs": [
    {
     "data": {
      "text/plain": [
       "16260"
      ]
     },
     "execution_count": 12,
     "metadata": {},
     "output_type": "execute_result"
    }
   ],
   "source": [
    "len(g_outward_indices)"
   ]
  },
  {
   "cell_type": "code",
   "execution_count": 72,
   "metadata": {},
   "outputs": [],
   "source": [
    "frame_w = 200"
   ]
  },
  {
   "cell_type": "code",
   "execution_count": 73,
   "metadata": {},
   "outputs": [],
   "source": [
    "gesture_frames = []\n",
    "\n",
    "start_index = 0\n",
    "start_time = sensor_data.iloc[start_index][\"time\"]\n",
    "\n",
    "while True:\n",
    "    if start_index + 10 > len(sensor_data):\n",
    "        break\n",
    "    frame_data = sensor_data.iloc[start_index:start_index+frame_w]\n",
    "    gesture_frames.append(frame_data)\n",
    "    start_index += frame_w"
   ]
  },
  {
   "cell_type": "code",
   "execution_count": 74,
   "metadata": {},
   "outputs": [
    {
     "data": {
      "text/plain": [
       "327"
      ]
     },
     "execution_count": 74,
     "metadata": {},
     "output_type": "execute_result"
    }
   ],
   "source": [
    "len(gesture_frames)"
   ]
  },
  {
   "cell_type": "code",
   "execution_count": 76,
   "metadata": {},
   "outputs": [],
   "source": [
    "features_length = 3 * frame_w # (x, y, z) * frame_w"
   ]
  },
  {
   "cell_type": "code",
   "execution_count": 77,
   "metadata": {},
   "outputs": [
    {
     "data": {
      "text/plain": [
       "600"
      ]
     },
     "execution_count": 77,
     "metadata": {},
     "output_type": "execute_result"
    }
   ],
   "source": [
    "features_length"
   ]
  },
  {
   "cell_type": "code",
   "execution_count": 78,
   "metadata": {},
   "outputs": [],
   "source": [
    "columns_X = list(range(features_length))\n",
    "columns_y = [\"label\"]"
   ]
  },
  {
   "cell_type": "code",
   "execution_count": 79,
   "metadata": {},
   "outputs": [],
   "source": [
    "columns = copy.copy(columns_X)\n",
    "columns.extend(columns_y)"
   ]
  },
  {
   "cell_type": "code",
   "execution_count": 165,
   "metadata": {},
   "outputs": [],
   "source": [
    "sensor_data_xyz = pd.DataFrame(columns=columns)"
   ]
  },
  {
   "cell_type": "code",
   "execution_count": 166,
   "metadata": {},
   "outputs": [
    {
     "data": {
      "text/html": [
       "<div>\n",
       "<style>\n",
       "    .dataframe thead tr:only-child th {\n",
       "        text-align: right;\n",
       "    }\n",
       "\n",
       "    .dataframe thead th {\n",
       "        text-align: left;\n",
       "    }\n",
       "\n",
       "    .dataframe tbody tr th {\n",
       "        vertical-align: top;\n",
       "    }\n",
       "</style>\n",
       "<table border=\"1\" class=\"dataframe\">\n",
       "  <thead>\n",
       "    <tr style=\"text-align: right;\">\n",
       "      <th></th>\n",
       "      <th>0</th>\n",
       "      <th>1</th>\n",
       "      <th>2</th>\n",
       "      <th>3</th>\n",
       "      <th>4</th>\n",
       "      <th>5</th>\n",
       "      <th>6</th>\n",
       "      <th>7</th>\n",
       "      <th>8</th>\n",
       "      <th>9</th>\n",
       "      <th>...</th>\n",
       "      <th>591</th>\n",
       "      <th>592</th>\n",
       "      <th>593</th>\n",
       "      <th>594</th>\n",
       "      <th>595</th>\n",
       "      <th>596</th>\n",
       "      <th>597</th>\n",
       "      <th>598</th>\n",
       "      <th>599</th>\n",
       "      <th>label</th>\n",
       "    </tr>\n",
       "  </thead>\n",
       "  <tbody>\n",
       "  </tbody>\n",
       "</table>\n",
       "<p>0 rows × 601 columns</p>\n",
       "</div>"
      ],
      "text/plain": [
       "Empty DataFrame\n",
       "Columns: [0, 1, 2, 3, 4, 5, 6, 7, 8, 9, 10, 11, 12, 13, 14, 15, 16, 17, 18, 19, 20, 21, 22, 23, 24, 25, 26, 27, 28, 29, 30, 31, 32, 33, 34, 35, 36, 37, 38, 39, 40, 41, 42, 43, 44, 45, 46, 47, 48, 49, 50, 51, 52, 53, 54, 55, 56, 57, 58, 59, 60, 61, 62, 63, 64, 65, 66, 67, 68, 69, 70, 71, 72, 73, 74, 75, 76, 77, 78, 79, 80, 81, 82, 83, 84, 85, 86, 87, 88, 89, 90, 91, 92, 93, 94, 95, 96, 97, 98, 99, ...]\n",
       "Index: []\n",
       "\n",
       "[0 rows x 601 columns]"
      ]
     },
     "execution_count": 166,
     "metadata": {},
     "output_type": "execute_result"
    }
   ],
   "source": [
    "sensor_data_xyz.head()"
   ]
  },
  {
   "cell_type": "code",
   "execution_count": 167,
   "metadata": {},
   "outputs": [],
   "source": [
    "for frame_data in gesture_frames:\n",
    "    \n",
    "    data_xyz = frame_data[[\"linear_accel_x\", \"linear_accel_y\", \"linear_accel_z\"]].copy()\n",
    "    data_label = stats.mode(frame_data[\"label\"]).mode[0]\n",
    "    \n",
    "    hamming = np.hamming(len(frame_data))\n",
    "    data_xyz[\"linear_accel_x\"] = data_xyz[\"linear_accel_x\"] * hamming\n",
    "    data_xyz[\"linear_accel_y\"] = data_xyz[\"linear_accel_y\"] * hamming\n",
    "    data_xyz[\"linear_accel_z\"] = data_xyz[\"linear_accel_z\"] * hamming\n",
    "    \n",
    "#     data_xyz[\"linear_accel_x\"] = h_x\n",
    "#     data_xyz[\"linear_accel_y\"] = h_y\n",
    "#     data_xyz[\"linear_accel_z\"] = h_z\n",
    "    \n",
    "    # concatenate frame t into one sample\n",
    "    data_xyz_flatten = pd.DataFrame(data_xyz.values.reshape(1, -1))\n",
    "    data_xyz_flatten[\"label\"] = data_label\n",
    "    \n",
    "    # append to dataframe\n",
    "    sensor_data_xyz = sensor_data_xyz.append(data_xyz_flatten, ignore_index=True)"
   ]
  },
  {
   "cell_type": "code",
   "execution_count": 168,
   "metadata": {},
   "outputs": [
    {
     "data": {
      "text/html": [
       "<div>\n",
       "<style>\n",
       "    .dataframe thead tr:only-child th {\n",
       "        text-align: right;\n",
       "    }\n",
       "\n",
       "    .dataframe thead th {\n",
       "        text-align: left;\n",
       "    }\n",
       "\n",
       "    .dataframe tbody tr th {\n",
       "        vertical-align: top;\n",
       "    }\n",
       "</style>\n",
       "<table border=\"1\" class=\"dataframe\">\n",
       "  <thead>\n",
       "    <tr style=\"text-align: right;\">\n",
       "      <th></th>\n",
       "      <th>0</th>\n",
       "      <th>1</th>\n",
       "      <th>2</th>\n",
       "      <th>3</th>\n",
       "      <th>4</th>\n",
       "      <th>5</th>\n",
       "      <th>6</th>\n",
       "      <th>7</th>\n",
       "      <th>8</th>\n",
       "      <th>9</th>\n",
       "      <th>...</th>\n",
       "      <th>591</th>\n",
       "      <th>592</th>\n",
       "      <th>593</th>\n",
       "      <th>594</th>\n",
       "      <th>595</th>\n",
       "      <th>596</th>\n",
       "      <th>597</th>\n",
       "      <th>598</th>\n",
       "      <th>599</th>\n",
       "      <th>label</th>\n",
       "    </tr>\n",
       "  </thead>\n",
       "  <tbody>\n",
       "    <tr>\n",
       "      <th>0</th>\n",
       "      <td>0.00000</td>\n",
       "      <td>0.00000</td>\n",
       "      <td>0.00000</td>\n",
       "      <td>0.000000</td>\n",
       "      <td>0.000000</td>\n",
       "      <td>0.000000</td>\n",
       "      <td>0.000000</td>\n",
       "      <td>0.000000</td>\n",
       "      <td>0.000000</td>\n",
       "      <td>0.000000</td>\n",
       "      <td>...</td>\n",
       "      <td>-0.000728</td>\n",
       "      <td>-0.000728</td>\n",
       "      <td>0.001052</td>\n",
       "      <td>-0.000722</td>\n",
       "      <td>0.000241</td>\n",
       "      <td>-0.001845</td>\n",
       "      <td>-0.00072</td>\n",
       "      <td>0.00024</td>\n",
       "      <td>-0.00184</td>\n",
       "      <td>0</td>\n",
       "    </tr>\n",
       "    <tr>\n",
       "      <th>1</th>\n",
       "      <td>0.00064</td>\n",
       "      <td>-0.00104</td>\n",
       "      <td>-0.00048</td>\n",
       "      <td>0.000963</td>\n",
       "      <td>0.000241</td>\n",
       "      <td>-0.000883</td>\n",
       "      <td>0.000243</td>\n",
       "      <td>0.000081</td>\n",
       "      <td>-0.000081</td>\n",
       "      <td>-0.000985</td>\n",
       "      <td>...</td>\n",
       "      <td>0.001376</td>\n",
       "      <td>-0.000728</td>\n",
       "      <td>-0.001214</td>\n",
       "      <td>-0.000562</td>\n",
       "      <td>-0.000321</td>\n",
       "      <td>0.001685</td>\n",
       "      <td>-0.00056</td>\n",
       "      <td>-0.00032</td>\n",
       "      <td>0.00168</td>\n",
       "      <td>0</td>\n",
       "    </tr>\n",
       "    <tr>\n",
       "      <th>2</th>\n",
       "      <td>0.00232</td>\n",
       "      <td>-0.00256</td>\n",
       "      <td>-0.00272</td>\n",
       "      <td>0.001524</td>\n",
       "      <td>-0.001043</td>\n",
       "      <td>-0.001364</td>\n",
       "      <td>0.000728</td>\n",
       "      <td>-0.000243</td>\n",
       "      <td>-0.000971</td>\n",
       "      <td>0.000739</td>\n",
       "      <td>...</td>\n",
       "      <td>0.001214</td>\n",
       "      <td>0.000243</td>\n",
       "      <td>-0.001618</td>\n",
       "      <td>0.001203</td>\n",
       "      <td>0.000241</td>\n",
       "      <td>-0.001605</td>\n",
       "      <td>0.00144</td>\n",
       "      <td>0.00080</td>\n",
       "      <td>-0.00120</td>\n",
       "      <td>0</td>\n",
       "    </tr>\n",
       "    <tr>\n",
       "      <th>3</th>\n",
       "      <td>0.00144</td>\n",
       "      <td>0.00080</td>\n",
       "      <td>-0.00120</td>\n",
       "      <td>-0.001043</td>\n",
       "      <td>0.000000</td>\n",
       "      <td>0.001043</td>\n",
       "      <td>0.001052</td>\n",
       "      <td>0.000809</td>\n",
       "      <td>-0.000647</td>\n",
       "      <td>0.000903</td>\n",
       "      <td>...</td>\n",
       "      <td>0.000081</td>\n",
       "      <td>0.000324</td>\n",
       "      <td>0.000890</td>\n",
       "      <td>0.000321</td>\n",
       "      <td>0.002648</td>\n",
       "      <td>-0.000080</td>\n",
       "      <td>-0.00200</td>\n",
       "      <td>-0.00120</td>\n",
       "      <td>0.00120</td>\n",
       "      <td>0</td>\n",
       "    </tr>\n",
       "    <tr>\n",
       "      <th>4</th>\n",
       "      <td>0.00072</td>\n",
       "      <td>0.00072</td>\n",
       "      <td>-0.00144</td>\n",
       "      <td>-0.001444</td>\n",
       "      <td>0.000883</td>\n",
       "      <td>-0.002968</td>\n",
       "      <td>-0.000405</td>\n",
       "      <td>-0.001618</td>\n",
       "      <td>-0.001052</td>\n",
       "      <td>-0.000410</td>\n",
       "      <td>...</td>\n",
       "      <td>-0.001214</td>\n",
       "      <td>-0.000081</td>\n",
       "      <td>0.001295</td>\n",
       "      <td>-0.000642</td>\n",
       "      <td>0.000321</td>\n",
       "      <td>0.000883</td>\n",
       "      <td>-0.00064</td>\n",
       "      <td>0.00032</td>\n",
       "      <td>0.00088</td>\n",
       "      <td>0</td>\n",
       "    </tr>\n",
       "  </tbody>\n",
       "</table>\n",
       "<p>5 rows × 601 columns</p>\n",
       "</div>"
      ],
      "text/plain": [
       "         0        1        2         3         4         5         6  \\\n",
       "0  0.00000  0.00000  0.00000  0.000000  0.000000  0.000000  0.000000   \n",
       "1  0.00064 -0.00104 -0.00048  0.000963  0.000241 -0.000883  0.000243   \n",
       "2  0.00232 -0.00256 -0.00272  0.001524 -0.001043 -0.001364  0.000728   \n",
       "3  0.00144  0.00080 -0.00120 -0.001043  0.000000  0.001043  0.001052   \n",
       "4  0.00072  0.00072 -0.00144 -0.001444  0.000883 -0.002968 -0.000405   \n",
       "\n",
       "          7         8         9  ...         591       592       593  \\\n",
       "0  0.000000  0.000000  0.000000  ...   -0.000728 -0.000728  0.001052   \n",
       "1  0.000081 -0.000081 -0.000985  ...    0.001376 -0.000728 -0.001214   \n",
       "2 -0.000243 -0.000971  0.000739  ...    0.001214  0.000243 -0.001618   \n",
       "3  0.000809 -0.000647  0.000903  ...    0.000081  0.000324  0.000890   \n",
       "4 -0.001618 -0.001052 -0.000410  ...   -0.001214 -0.000081  0.001295   \n",
       "\n",
       "        594       595       596      597      598      599  label  \n",
       "0 -0.000722  0.000241 -0.001845 -0.00072  0.00024 -0.00184      0  \n",
       "1 -0.000562 -0.000321  0.001685 -0.00056 -0.00032  0.00168      0  \n",
       "2  0.001203  0.000241 -0.001605  0.00144  0.00080 -0.00120      0  \n",
       "3  0.000321  0.002648 -0.000080 -0.00200 -0.00120  0.00120      0  \n",
       "4 -0.000642  0.000321  0.000883 -0.00064  0.00032  0.00088      0  \n",
       "\n",
       "[5 rows x 601 columns]"
      ]
     },
     "execution_count": 168,
     "metadata": {},
     "output_type": "execute_result"
    }
   ],
   "source": [
    "sensor_data_xyz.head()"
   ]
  },
  {
   "cell_type": "code",
   "execution_count": 169,
   "metadata": {},
   "outputs": [],
   "source": [
    "sensor_data_xyz = sensor_data_xyz.dropna(axis=0)"
   ]
  },
  {
   "cell_type": "code",
   "execution_count": 170,
   "metadata": {},
   "outputs": [
    {
     "data": {
      "text/plain": [
       "(326, 601)"
      ]
     },
     "execution_count": 170,
     "metadata": {},
     "output_type": "execute_result"
    }
   ],
   "source": [
    "sensor_data_xyz.shape"
   ]
  },
  {
   "cell_type": "code",
   "execution_count": 171,
   "metadata": {},
   "outputs": [],
   "source": [
    "num_rest_gestures = len(sensor_data_xyz[sensor_data_xyz[\"label\"] == 0])"
   ]
  },
  {
   "cell_type": "code",
   "execution_count": 172,
   "metadata": {},
   "outputs": [
    {
     "data": {
      "text/plain": [
       "172"
      ]
     },
     "execution_count": 172,
     "metadata": {},
     "output_type": "execute_result"
    }
   ],
   "source": [
    "num_rest_gestures"
   ]
  },
  {
   "cell_type": "code",
   "execution_count": 173,
   "metadata": {},
   "outputs": [],
   "source": [
    "num_inward_gestures = len(sensor_data_xyz[sensor_data_xyz[\"label\"] == 1])"
   ]
  },
  {
   "cell_type": "code",
   "execution_count": 174,
   "metadata": {},
   "outputs": [
    {
     "data": {
      "text/plain": [
       "76"
      ]
     },
     "execution_count": 174,
     "metadata": {},
     "output_type": "execute_result"
    }
   ],
   "source": [
    "num_inward_gestures"
   ]
  },
  {
   "cell_type": "code",
   "execution_count": 175,
   "metadata": {},
   "outputs": [],
   "source": [
    "num_outward_gestures = len(sensor_data_xyz[sensor_data_xyz[\"label\"] == 2])"
   ]
  },
  {
   "cell_type": "code",
   "execution_count": 176,
   "metadata": {},
   "outputs": [
    {
     "data": {
      "text/plain": [
       "78"
      ]
     },
     "execution_count": 176,
     "metadata": {},
     "output_type": "execute_result"
    }
   ],
   "source": [
    "num_outward_gestures"
   ]
  },
  {
   "cell_type": "code",
   "execution_count": 177,
   "metadata": {},
   "outputs": [],
   "source": [
    "X = sensor_data_xyz[columns_X].values\n",
    "y = sensor_data_xyz[columns_y][\"label\"].values"
   ]
  },
  {
   "cell_type": "code",
   "execution_count": 179,
   "metadata": {},
   "outputs": [],
   "source": [
    "y = y.astype(\"int\")"
   ]
  },
  {
   "cell_type": "code",
   "execution_count": 180,
   "metadata": {},
   "outputs": [
    {
     "data": {
      "text/plain": [
       "array([0, 1, 2])"
      ]
     },
     "execution_count": 180,
     "metadata": {},
     "output_type": "execute_result"
    }
   ],
   "source": [
    "np.unique(y)"
   ]
  },
  {
   "cell_type": "code",
   "execution_count": 181,
   "metadata": {},
   "outputs": [],
   "source": [
    "X_train, X_test, y_train, y_test = train_test_split(X, y, test_size=0.3, stratify=y, random_state=0)"
   ]
  },
  {
   "cell_type": "code",
   "execution_count": 182,
   "metadata": {},
   "outputs": [
    {
     "data": {
      "text/plain": [
       "((228, 600), (228,))"
      ]
     },
     "execution_count": 182,
     "metadata": {},
     "output_type": "execute_result"
    }
   ],
   "source": [
    "X_train.shape, y_train.shape"
   ]
  },
  {
   "cell_type": "code",
   "execution_count": 183,
   "metadata": {},
   "outputs": [
    {
     "data": {
      "text/plain": [
       "((98, 600), (98,))"
      ]
     },
     "execution_count": 183,
     "metadata": {},
     "output_type": "execute_result"
    }
   ],
   "source": [
    "X_test.shape, y_test.shape"
   ]
  },
  {
   "cell_type": "code",
   "execution_count": 184,
   "metadata": {},
   "outputs": [],
   "source": [
    "y_true = list(y_test)"
   ]
  },
  {
   "cell_type": "code",
   "execution_count": 98,
   "metadata": {},
   "outputs": [],
   "source": [
    "with open(\"sensor-3039-X.pkl\", \"wb\") as fid:\n",
    "    pickle.dump(X, fid)\n",
    "\n",
    "with open(\"sensor-3039-y.pkl\", \"wb\") as fid:\n",
    "    pickle.dump(y, fid)"
   ]
  },
  {
   "cell_type": "code",
   "execution_count": null,
   "metadata": {},
   "outputs": [],
   "source": []
  },
  {
   "cell_type": "code",
   "execution_count": 59,
   "metadata": {},
   "outputs": [],
   "source": [
    "# knn & dtw\n",
    "\n",
    "def fastdtw_dist(x, y):\n",
    "    return fastdtw(x, y)[0]"
   ]
  },
  {
   "cell_type": "code",
   "execution_count": 60,
   "metadata": {},
   "outputs": [
    {
     "data": {
      "text/plain": [
       "<function __main__.fastdtw_dist>"
      ]
     },
     "execution_count": 60,
     "metadata": {},
     "output_type": "execute_result"
    }
   ],
   "source": [
    "fastdtw_dist"
   ]
  },
  {
   "cell_type": "code",
   "execution_count": 68,
   "metadata": {},
   "outputs": [],
   "source": [
    "fastdtw_knn = KNeighborsClassifier(n_neighbors=5, weights=\"distance\", algorithm=\"auto\", metric=fastdtw_dist)"
   ]
  },
  {
   "cell_type": "code",
   "execution_count": 69,
   "metadata": {},
   "outputs": [
    {
     "data": {
      "text/plain": [
       "KNeighborsClassifier(algorithm='auto', leaf_size=30,\n",
       "           metric=<function fastdtw_dist at 0x00000207B638E8C8>,\n",
       "           metric_params=None, n_jobs=1, n_neighbors=5, p=2,\n",
       "           weights='distance')"
      ]
     },
     "execution_count": 69,
     "metadata": {},
     "output_type": "execute_result"
    }
   ],
   "source": [
    "fastdtw_knn.fit(X_train, y_train)"
   ]
  },
  {
   "cell_type": "code",
   "execution_count": 70,
   "metadata": {},
   "outputs": [],
   "source": [
    "fastdtw_knn_y_pred = fastdtw_knn.predict([X_test[0]])"
   ]
  },
  {
   "cell_type": "code",
   "execution_count": 71,
   "metadata": {},
   "outputs": [
    {
     "data": {
      "text/plain": [
       "(array([2]), 1)"
      ]
     },
     "execution_count": 71,
     "metadata": {},
     "output_type": "execute_result"
    }
   ],
   "source": [
    "fastdtw_knn_y_pred, y_test[0]"
   ]
  },
  {
   "cell_type": "code",
   "execution_count": null,
   "metadata": {},
   "outputs": [],
   "source": [
    "fastdtw_knn_accuracy = accuracy_score(y_true, fastdtw_knn_y_pred)"
   ]
  },
  {
   "cell_type": "code",
   "execution_count": 181,
   "metadata": {},
   "outputs": [],
   "source": [
    "fastdtw_knn_accuracy"
   ]
  },
  {
   "cell_type": "code",
   "execution_count": null,
   "metadata": {},
   "outputs": [],
   "source": [
    "fl = f1_score(y_true, fastdtw_knn_y_pred, average=\"weighted\")"
   ]
  },
  {
   "cell_type": "code",
   "execution_count": null,
   "metadata": {},
   "outputs": [],
   "source": [
    "fl"
   ]
  },
  {
   "cell_type": "code",
   "execution_count": null,
   "metadata": {},
   "outputs": [],
   "source": []
  },
  {
   "cell_type": "code",
   "execution_count": 193,
   "metadata": {},
   "outputs": [],
   "source": [
    "stratified_shuffle_split = StratifiedShuffleSplit(n_splits=10, random_state=0)"
   ]
  },
  {
   "cell_type": "code",
   "execution_count": 208,
   "metadata": {},
   "outputs": [
    {
     "data": {
      "text/plain": [
       "<matplotlib.legend.Legend at 0x207b34ad780>"
      ]
     },
     "execution_count": 208,
     "metadata": {},
     "output_type": "execute_result"
    },
    {
     "data": {
      "image/png": "[encoded data removed]",
      "text/plain": [
       "<matplotlib.figure.Figure at 0x207b25ec0b8>"
      ]
     },
     "metadata": {},
     "output_type": "display_data"
    }
   ],
   "source": [
    "plt.figure()\n",
    "plt.title(\"SVM\")\n",
    "plt.xlabel(\"Training examples\")\n",
    "plt.ylabel(\"Score\")\n",
    "\n",
    "train_sizes, train_scores, test_scores = learning_curve(svm_xyz, X_train, y_train, cv=stratified_shuffle_split, n_jobs=4, train_sizes=np.linspace(.1, 1.0, 5))\n",
    "train_scores_mean = np.mean(train_scores, axis=1)\n",
    "train_scores_std = np.std(train_scores, axis=1)\n",
    "test_scores_mean = np.mean(test_scores, axis=1)\n",
    "test_scores_std = np.std(test_scores, axis=1)\n",
    "\n",
    "plt.grid()\n",
    "plt.fill_between(train_sizes, train_scores_mean - train_scores_std,\n",
    "                 train_scores_mean + train_scores_std, alpha=0.1,\n",
    "                 color=\"r\")\n",
    "plt.fill_between(train_sizes, test_scores_mean - test_scores_std,\n",
    "                 test_scores_mean + test_scores_std, alpha=0.1, color=\"g\")\n",
    "plt.plot(train_sizes, train_scores_mean, 'o-', color=\"r\",\n",
    "         label=\"Training score\")\n",
    "plt.plot(train_sizes, test_scores_mean, 'o-', color=\"g\",\n",
    "         label=\"Cross-validation score\")\n",
    "plt.legend(loc=\"best\")"
   ]
  },
  {
   "cell_type": "code",
   "execution_count": 198,
   "metadata": {},
   "outputs": [
    {
     "name": "stdout",
     "output_type": "stream",
     "text": [
      "[LibSVM]"
     ]
    }
   ],
   "source": [
    "svm_xyz = svm.SVC(C=1, kernel=\"rbf\", degree=1, class_weight=\"balanced\", random_state=42, verbose=True)\n",
    "svm_xyz.fit(X_train, y_train)\n",
    "svm_xyz_y_pred = svm_xyz.predict(X_test)\n",
    "svm_xyz_accuracy = accuracy_score(y_true, svm_xyz_y_pred)\n",
    "svm_xyz_fl = f1_score(y_true, svm_xyz_y_pred, average=\"weighted\")"
   ]
  },
  {
   "cell_type": "code",
   "execution_count": 199,
   "metadata": {},
   "outputs": [
    {
     "data": {
      "text/plain": [
       "(0.80612244897959184, 0.79987631416202842)"
      ]
     },
     "execution_count": 199,
     "metadata": {},
     "output_type": "execute_result"
    }
   ],
   "source": [
    "svm_xyz_accuracy, svm_xyz_fl"
   ]
  },
  {
   "cell_type": "code",
   "execution_count": null,
   "metadata": {},
   "outputs": [],
   "source": []
  },
  {
   "cell_type": "code",
   "execution_count": 200,
   "metadata": {},
   "outputs": [
    {
     "name": "stdout",
     "output_type": "stream",
     "text": [
      "[LibSVM]"
     ]
    },
    {
     "data": {
      "text/plain": [
       "SVC(C=1, cache_size=200, class_weight='balanced', coef0=0.0,\n",
       "  decision_function_shape='ovr', degree=1, gamma='auto', kernel='rbf',\n",
       "  max_iter=-1, probability=False, random_state=42, shrinking=True,\n",
       "  tol=0.001, verbose=True)"
      ]
     },
     "execution_count": 200,
     "metadata": {},
     "output_type": "execute_result"
    }
   ],
   "source": [
    "# ALL DATA\n",
    "svm_xyz.fit(X, y)"
   ]
  },
  {
   "cell_type": "code",
   "execution_count": 201,
   "metadata": {},
   "outputs": [],
   "source": [
    "import pickle"
   ]
  },
  {
   "cell_type": "code",
   "execution_count": 202,
   "metadata": {},
   "outputs": [],
   "source": [
    "# save the classifier\n",
    "with open(\"3-gesture-xyz-svm.pkl\", \"wb\") as fid:\n",
    "    pickle.dump(svm_xyz, fid)"
   ]
  },
  {
   "cell_type": "code",
   "execution_count": 203,
   "metadata": {},
   "outputs": [],
   "source": [
    "# load it again\n",
    "with open(\"3-gesture-xyz-svm.pkl\", \"rb\") as fid:\n",
    "    svm_xyz = pickle.load(fid)"
   ]
  },
  {
   "cell_type": "code",
   "execution_count": 204,
   "metadata": {},
   "outputs": [],
   "source": [
    "y_pred = svm_xyz.predict(X_test)"
   ]
  },
  {
   "cell_type": "code",
   "execution_count": 205,
   "metadata": {},
   "outputs": [],
   "source": [
    "accuracy = accuracy_score(y_true, y_pred)"
   ]
  },
  {
   "cell_type": "code",
   "execution_count": 206,
   "metadata": {},
   "outputs": [
    {
     "data": {
      "text/plain": [
       "0.87755102040816324"
      ]
     },
     "execution_count": 206,
     "metadata": {},
     "output_type": "execute_result"
    }
   ],
   "source": [
    "accuracy"
   ]
  }
 ],
 "metadata": {
  "kernelspec": {
   "display_name": "Python 3",
   "language": "python",
   "name": "python3"
  },
  "language_info": {
   "codemirror_mode": {
    "name": "ipython",
    "version": 3
   },
   "file_extension": ".py",
   "mimetype": "text/x-python",
   "name": "python",
   "nbconvert_exporter": "python",
   "pygments_lexer": "ipython3",
   "version": "3.6.3"
  }
 },
 "nbformat": 4,
 "nbformat_minor": 2
}
