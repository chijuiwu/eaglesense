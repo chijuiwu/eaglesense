{
 "cells": [
  {
   "cell_type": "code",
   "execution_count": 1,
   "metadata": {},
   "outputs": [],
   "source": [
    "%matplotlib inline\n",
    "\n",
    "import pandas as pd\n",
    "import numpy as np\n",
    "import seaborn as sns\n",
    "import matplotlib as mpl\n",
    "import matplotlib.pyplot as plt\n",
    "import os\n",
    "import math\n",
    "import itertools"
   ]
  },
  {
   "cell_type": "code",
   "execution_count": 2,
   "metadata": {},
   "outputs": [],
   "source": [
    "DATA_INPUT_DIR = \"D:\\\\p_eaglesense\\\\eaglesense\\\\data\\\\topviewkinect\""
   ]
  },
  {
   "cell_type": "code",
   "execution_count": 3,
   "metadata": {},
   "outputs": [],
   "source": [
    "DATA_OUTPUT_DIR = DATA_INPUT_DIR + \"\\\\v2-models\"\n",
    "if not os.path.exists(DATA_OUTPUT_DIR):\n",
    "    os.makedirs(DATA_OUTPUT_DIR)"
   ]
  },
  {
   "cell_type": "code",
   "execution_count": 4,
   "metadata": {},
   "outputs": [],
   "source": [
    "data_dirs = []\n",
    "for subdir in sorted(next(os.walk(DATA_INPUT_DIR))[1]):\n",
    "    if subdir.isdigit():\n",
    "        data_dirs.append(int(subdir))\n",
    "data_dirs.sort(key=int)"
   ]
  },
  {
   "cell_type": "code",
   "execution_count": 5,
   "metadata": {},
   "outputs": [
    {
     "data": {
      "text/plain": [
       "[1, 2, 3, 4, 5, 6]"
      ]
     },
     "execution_count": 5,
     "metadata": {},
     "output_type": "execute_result"
    }
   ],
   "source": [
    "data_dirs"
   ]
  },
  {
   "cell_type": "code",
   "execution_count": 6,
   "metadata": {},
   "outputs": [],
   "source": [
    "ignored_X_cols = [\"frame_id\", \"skeleton_id\", \"x\", \"y\", \"z\"]\n",
    "ignored_y_cols = [\"frame_id\", \"skeleton_id\", \"orientation\", \"orientation_accurate\"]"
   ]
  },
  {
   "cell_type": "code",
   "execution_count": 7,
   "metadata": {},
   "outputs": [],
   "source": [
    "all_X_csv = \"{d}/{tag}_X.csv\".format(d=DATA_OUTPUT_DIR, tag=\"v2\")\n",
    "all_y_csv = \"{d}/{tag}_y.csv\".format(d=DATA_OUTPUT_DIR, tag=\"v2\")"
   ]
  },
  {
   "cell_type": "code",
   "execution_count": 42,
   "metadata": {},
   "outputs": [
    {
     "name": "stdout",
     "output_type": "stream",
     "text": [
      "1 Done!\n",
      "2 Done!\n",
      "3 Done!\n",
      "4 Done!\n",
      "5 Done!\n",
      "6 Done!\n"
     ]
    }
   ],
   "source": [
    "open(all_X_csv, \"w\").close()\n",
    "open(all_y_csv, \"w\").close()\n",
    "\n",
    "all_X_file = open(all_X_csv, \"a\")\n",
    "all_y_file = open(all_y_csv, \"a\")\n",
    "\n",
    "write_header=True\n",
    "\n",
    "for dataset_id in data_dirs:\n",
    "    # read data\n",
    "    X_csv = \"{d}/{dataset}/features.csv\".format(d=DATA_INPUT_DIR, dataset=dataset_id)\n",
    "    X_df = pd.read_csv(X_csv, dtype=np.float64)\n",
    "    y_csv = \"{d}/{dataset}/labels.csv\".format(d=DATA_INPUT_DIR, dataset=dataset_id)\n",
    "    y_df = pd.read_csv(y_csv, dtype=np.float64)\n",
    "\n",
    "    # get single skeleton activities\n",
    "    y_df = y_df.loc[y_df[\"skeleton_id\"] == 0]\n",
    "    y_df = y_df.loc[y_df[\"activity\"].isin(list(range(0, 6)))]\n",
    "\n",
    "    # get common frame indices\n",
    "    X_df = X_df.loc[X_df[\"frame_id\"].isin(y_df[\"frame_id\"].values)]\n",
    "    y_df = y_df.loc[y_df[\"frame_id\"].isin(X_df[\"frame_id\"].values)]\n",
    "    \n",
    "    # drop unncessary columns\n",
    "    X_df = X_df.drop(labels=ignored_X_cols, axis=1)\n",
    "    y_df = y_df.drop(labels=ignored_y_cols, axis=1)\n",
    "    \n",
    "    # add dataset id\n",
    "    X_df[\"dataset_id\"] = dataset_id\n",
    "    y_df[\"dataset_id\"] = dataset_id\n",
    "    \n",
    "    # save to csv\n",
    "    X_df = X_df.astype(\"float64\")\n",
    "    X_df.to_csv(all_X_file, header=write_header, index=False)\n",
    "    y_df = y_df.astype(\"int\")\n",
    "    y_df.to_csv(all_y_file, header=write_header, index=False)\n",
    "    \n",
    "    write_header = False\n",
    "    \n",
    "    print(dataset_id, \"Done!\")\n",
    "    \n",
    "all_X_file.close()\n",
    "all_y_file.close()"
   ]
  },
  {
   "cell_type": "code",
   "execution_count": 9,
   "metadata": {},
   "outputs": [],
   "source": [
    "ACTIVITIES = [\"Standing\", \"Sitting\", \"Pointing\", \"Phone\", \"Tablet\", \"Paper\"]"
   ]
  },
  {
   "cell_type": "code",
   "execution_count": 10,
   "metadata": {},
   "outputs": [],
   "source": [
    "num_activities = len(ACTIVITIES)"
   ]
  },
  {
   "cell_type": "code",
   "execution_count": 11,
   "metadata": {},
   "outputs": [
    {
     "data": {
      "text/plain": [
       "6"
      ]
     },
     "execution_count": 11,
     "metadata": {},
     "output_type": "execute_result"
    }
   ],
   "source": [
    "num_activities"
   ]
  },
  {
   "cell_type": "code",
   "execution_count": 12,
   "metadata": {},
   "outputs": [],
   "source": [
    "X_all_df = pd.read_csv(all_X_csv, dtype=np.float64)\n",
    "y_all_df = pd.read_csv(all_y_csv, dtype=np.int)"
   ]
  },
  {
   "cell_type": "code",
   "execution_count": 13,
   "metadata": {},
   "outputs": [
    {
     "data": {
      "text/plain": [
       "((7762, 73), (7752, 2))"
      ]
     },
     "execution_count": 13,
     "metadata": {},
     "output_type": "execute_result"
    }
   ],
   "source": [
    "X_all_df.shape, y_all_df.shape"
   ]
  },
  {
   "cell_type": "code",
   "execution_count": 14,
   "metadata": {},
   "outputs": [
    {
     "data": {
      "text/html": [
       "<div>\n",
       "<style>\n",
       "    .dataframe thead tr:only-child th {\n",
       "        text-align: right;\n",
       "    }\n",
       "\n",
       "    .dataframe thead th {\n",
       "        text-align: left;\n",
       "    }\n",
       "\n",
       "    .dataframe tbody tr th {\n",
       "        vertical-align: top;\n",
       "    }\n",
       "</style>\n",
       "<table border=\"1\" class=\"dataframe\">\n",
       "  <thead>\n",
       "    <tr style=\"text-align: right;\">\n",
       "      <th></th>\n",
       "      <th>layer_area_0</th>\n",
       "      <th>layer_area_1</th>\n",
       "      <th>layer_area_2</th>\n",
       "      <th>layer_contours_0</th>\n",
       "      <th>layer_contours_1</th>\n",
       "      <th>layer_distance_0</th>\n",
       "      <th>layer_distance_1</th>\n",
       "      <th>layer_distance_2</th>\n",
       "      <th>layer_distance_3</th>\n",
       "      <th>layer_distance_4</th>\n",
       "      <th>...</th>\n",
       "      <th>interlayer_pos_16</th>\n",
       "      <th>interlayer_pos_17</th>\n",
       "      <th>extremities0</th>\n",
       "      <th>extreme_infrared_0</th>\n",
       "      <th>extreme_infrared_1</th>\n",
       "      <th>extreme_infrared_2</th>\n",
       "      <th>extreme_infrared_3</th>\n",
       "      <th>extreme_infrared_4</th>\n",
       "      <th>extreme_infrared_5</th>\n",
       "      <th>dataset_id</th>\n",
       "    </tr>\n",
       "  </thead>\n",
       "  <tbody>\n",
       "    <tr>\n",
       "      <th>0</th>\n",
       "      <td>0.433004</td>\n",
       "      <td>0.425952</td>\n",
       "      <td>0.141044</td>\n",
       "      <td>3.0</td>\n",
       "      <td>3.0</td>\n",
       "      <td>29.8329</td>\n",
       "      <td>26.3059</td>\n",
       "      <td>27.4591</td>\n",
       "      <td>26.3059</td>\n",
       "      <td>267.5</td>\n",
       "      <td>...</td>\n",
       "      <td>-33.0</td>\n",
       "      <td>-194.0</td>\n",
       "      <td>4.0</td>\n",
       "      <td>71.5</td>\n",
       "      <td>61.5</td>\n",
       "      <td>86.5</td>\n",
       "      <td>81.5</td>\n",
       "      <td>0.0</td>\n",
       "      <td>197.5</td>\n",
       "      <td>1.0</td>\n",
       "    </tr>\n",
       "    <tr>\n",
       "      <th>1</th>\n",
       "      <td>0.345013</td>\n",
       "      <td>0.502695</td>\n",
       "      <td>0.152291</td>\n",
       "      <td>3.0</td>\n",
       "      <td>3.0</td>\n",
       "      <td>31.0161</td>\n",
       "      <td>38.0132</td>\n",
       "      <td>29.0172</td>\n",
       "      <td>38.0132</td>\n",
       "      <td>297.5</td>\n",
       "      <td>...</td>\n",
       "      <td>-32.0</td>\n",
       "      <td>-191.0</td>\n",
       "      <td>4.0</td>\n",
       "      <td>53.5</td>\n",
       "      <td>54.0</td>\n",
       "      <td>74.5</td>\n",
       "      <td>94.0</td>\n",
       "      <td>0.0</td>\n",
       "      <td>103.5</td>\n",
       "      <td>1.0</td>\n",
       "    </tr>\n",
       "    <tr>\n",
       "      <th>2</th>\n",
       "      <td>0.418367</td>\n",
       "      <td>0.428571</td>\n",
       "      <td>0.153061</td>\n",
       "      <td>3.0</td>\n",
       "      <td>3.0</td>\n",
       "      <td>29.5466</td>\n",
       "      <td>27.7308</td>\n",
       "      <td>26.6833</td>\n",
       "      <td>27.7308</td>\n",
       "      <td>216.0</td>\n",
       "      <td>...</td>\n",
       "      <td>-32.0</td>\n",
       "      <td>-190.0</td>\n",
       "      <td>2.0</td>\n",
       "      <td>52.5</td>\n",
       "      <td>54.0</td>\n",
       "      <td>0.0</td>\n",
       "      <td>0.0</td>\n",
       "      <td>0.0</td>\n",
       "      <td>54.0</td>\n",
       "      <td>1.0</td>\n",
       "    </tr>\n",
       "    <tr>\n",
       "      <th>3</th>\n",
       "      <td>0.452675</td>\n",
       "      <td>0.397119</td>\n",
       "      <td>0.150206</td>\n",
       "      <td>3.0</td>\n",
       "      <td>3.0</td>\n",
       "      <td>26.4008</td>\n",
       "      <td>23.2594</td>\n",
       "      <td>25.0799</td>\n",
       "      <td>23.2594</td>\n",
       "      <td>164.0</td>\n",
       "      <td>...</td>\n",
       "      <td>-31.0</td>\n",
       "      <td>-186.0</td>\n",
       "      <td>2.0</td>\n",
       "      <td>15.5</td>\n",
       "      <td>57.5</td>\n",
       "      <td>0.0</td>\n",
       "      <td>0.0</td>\n",
       "      <td>0.0</td>\n",
       "      <td>57.5</td>\n",
       "      <td>1.0</td>\n",
       "    </tr>\n",
       "    <tr>\n",
       "      <th>4</th>\n",
       "      <td>0.486784</td>\n",
       "      <td>0.400881</td>\n",
       "      <td>0.112335</td>\n",
       "      <td>3.0</td>\n",
       "      <td>3.0</td>\n",
       "      <td>25.0599</td>\n",
       "      <td>19.6469</td>\n",
       "      <td>24.0208</td>\n",
       "      <td>19.6469</td>\n",
       "      <td>157.0</td>\n",
       "      <td>...</td>\n",
       "      <td>-31.0</td>\n",
       "      <td>-188.0</td>\n",
       "      <td>5.0</td>\n",
       "      <td>12.0</td>\n",
       "      <td>19.5</td>\n",
       "      <td>68.0</td>\n",
       "      <td>83.5</td>\n",
       "      <td>87.5</td>\n",
       "      <td>131.0</td>\n",
       "      <td>1.0</td>\n",
       "    </tr>\n",
       "  </tbody>\n",
       "</table>\n",
       "<p>5 rows × 73 columns</p>\n",
       "</div>"
      ],
      "text/plain": [
       "   layer_area_0  layer_area_1  layer_area_2  layer_contours_0  \\\n",
       "0      0.433004      0.425952      0.141044               3.0   \n",
       "1      0.345013      0.502695      0.152291               3.0   \n",
       "2      0.418367      0.428571      0.153061               3.0   \n",
       "3      0.452675      0.397119      0.150206               3.0   \n",
       "4      0.486784      0.400881      0.112335               3.0   \n",
       "\n",
       "   layer_contours_1  layer_distance_0  layer_distance_1  layer_distance_2  \\\n",
       "0               3.0           29.8329           26.3059           27.4591   \n",
       "1               3.0           31.0161           38.0132           29.0172   \n",
       "2               3.0           29.5466           27.7308           26.6833   \n",
       "3               3.0           26.4008           23.2594           25.0799   \n",
       "4               3.0           25.0599           19.6469           24.0208   \n",
       "\n",
       "   layer_distance_3  layer_distance_4     ...      interlayer_pos_16  \\\n",
       "0           26.3059             267.5     ...                  -33.0   \n",
       "1           38.0132             297.5     ...                  -32.0   \n",
       "2           27.7308             216.0     ...                  -32.0   \n",
       "3           23.2594             164.0     ...                  -31.0   \n",
       "4           19.6469             157.0     ...                  -31.0   \n",
       "\n",
       "   interlayer_pos_17  extremities0  extreme_infrared_0  extreme_infrared_1  \\\n",
       "0             -194.0           4.0                71.5                61.5   \n",
       "1             -191.0           4.0                53.5                54.0   \n",
       "2             -190.0           2.0                52.5                54.0   \n",
       "3             -186.0           2.0                15.5                57.5   \n",
       "4             -188.0           5.0                12.0                19.5   \n",
       "\n",
       "   extreme_infrared_2  extreme_infrared_3  extreme_infrared_4  \\\n",
       "0                86.5                81.5                 0.0   \n",
       "1                74.5                94.0                 0.0   \n",
       "2                 0.0                 0.0                 0.0   \n",
       "3                 0.0                 0.0                 0.0   \n",
       "4                68.0                83.5                87.5   \n",
       "\n",
       "   extreme_infrared_5  dataset_id  \n",
       "0               197.5         1.0  \n",
       "1               103.5         1.0  \n",
       "2                54.0         1.0  \n",
       "3                57.5         1.0  \n",
       "4               131.0         1.0  \n",
       "\n",
       "[5 rows x 73 columns]"
      ]
     },
     "execution_count": 14,
     "metadata": {},
     "output_type": "execute_result"
    }
   ],
   "source": [
    "X_all_df.head()"
   ]
  },
  {
   "cell_type": "code",
   "execution_count": 15,
   "metadata": {},
   "outputs": [
    {
     "data": {
      "text/html": [
       "<div>\n",
       "<style>\n",
       "    .dataframe thead tr:only-child th {\n",
       "        text-align: right;\n",
       "    }\n",
       "\n",
       "    .dataframe thead th {\n",
       "        text-align: left;\n",
       "    }\n",
       "\n",
       "    .dataframe tbody tr th {\n",
       "        vertical-align: top;\n",
       "    }\n",
       "</style>\n",
       "<table border=\"1\" class=\"dataframe\">\n",
       "  <thead>\n",
       "    <tr style=\"text-align: right;\">\n",
       "      <th></th>\n",
       "      <th>activity</th>\n",
       "      <th>dataset_id</th>\n",
       "    </tr>\n",
       "  </thead>\n",
       "  <tbody>\n",
       "    <tr>\n",
       "      <th>0</th>\n",
       "      <td>0</td>\n",
       "      <td>1</td>\n",
       "    </tr>\n",
       "    <tr>\n",
       "      <th>1</th>\n",
       "      <td>0</td>\n",
       "      <td>1</td>\n",
       "    </tr>\n",
       "    <tr>\n",
       "      <th>2</th>\n",
       "      <td>0</td>\n",
       "      <td>1</td>\n",
       "    </tr>\n",
       "    <tr>\n",
       "      <th>3</th>\n",
       "      <td>0</td>\n",
       "      <td>1</td>\n",
       "    </tr>\n",
       "    <tr>\n",
       "      <th>4</th>\n",
       "      <td>0</td>\n",
       "      <td>1</td>\n",
       "    </tr>\n",
       "  </tbody>\n",
       "</table>\n",
       "</div>"
      ],
      "text/plain": [
       "   activity  dataset_id\n",
       "0         0           1\n",
       "1         0           1\n",
       "2         0           1\n",
       "3         0           1\n",
       "4         0           1"
      ]
     },
     "execution_count": 15,
     "metadata": {},
     "output_type": "execute_result"
    }
   ],
   "source": [
    "y_all_df.head()"
   ]
  },
  {
   "cell_type": "code",
   "execution_count": 16,
   "metadata": {},
   "outputs": [],
   "source": [
    "X_vec = X_all_df.drop([\"dataset_id\"], axis=1)\n",
    "y_vec = y_all_df.drop([\"dataset_id\"], axis=1)"
   ]
  },
  {
   "cell_type": "code",
   "execution_count": 19,
   "metadata": {},
   "outputs": [],
   "source": [
    "y_bins = np.bincount(np.squeeze(y_vec))"
   ]
  },
  {
   "cell_type": "code",
   "execution_count": 20,
   "metadata": {},
   "outputs": [
    {
     "data": {
      "text/plain": [
       "array([ 912,  900, 1161, 1497, 1561, 1721], dtype=int64)"
      ]
     },
     "execution_count": 20,
     "metadata": {},
     "output_type": "execute_result"
    }
   ],
   "source": [
    "y_bins"
   ]
  },
  {
   "cell_type": "code",
   "execution_count": 21,
   "metadata": {},
   "outputs": [],
   "source": [
    "y_min_count = min(y_bins)"
   ]
  },
  {
   "cell_type": "code",
   "execution_count": 22,
   "metadata": {},
   "outputs": [
    {
     "data": {
      "text/plain": [
       "900"
      ]
     },
     "execution_count": 22,
     "metadata": {},
     "output_type": "execute_result"
    }
   ],
   "source": [
    "y_min_count"
   ]
  },
  {
   "cell_type": "code",
   "execution_count": 23,
   "metadata": {},
   "outputs": [],
   "source": [
    "X_balanced_df = pd.DataFrame(columns=X_all_df.columns, dtype=np.float64)\n",
    "y_balanced_df = pd.DataFrame(columns=y_all_df.columns, dtype=np.int)"
   ]
  },
  {
   "cell_type": "code",
   "execution_count": 25,
   "metadata": {},
   "outputs": [],
   "source": [
    "for activity_id in range(num_activities):\n",
    "    samples_y = y_all_df.loc[(y_all_df[\"activity\"] == activity_id)]\n",
    "    samples_y = samples_y.sample(y_min_count, replace=False, random_state=42)\n",
    "    samples_X = X_all_df.iloc[samples_y.index]\n",
    "    X_balanced_df = X_balanced_df.append(samples_X, ignore_index=True)\n",
    "    y_balanced_df = y_balanced_df.append(samples_y, ignore_index=True)"
   ]
  },
  {
   "cell_type": "code",
   "execution_count": 26,
   "metadata": {},
   "outputs": [],
   "source": [
    "X_balanced_df = X_balanced_df.astype(np.float64)"
   ]
  },
  {
   "cell_type": "code",
   "execution_count": 27,
   "metadata": {},
   "outputs": [],
   "source": [
    "y_balanced_df = y_balanced_df.astype(np.int)"
   ]
  },
  {
   "cell_type": "code",
   "execution_count": 28,
   "metadata": {},
   "outputs": [
    {
     "data": {
      "text/plain": [
       "((5400, 73), (5400, 2))"
      ]
     },
     "execution_count": 28,
     "metadata": {},
     "output_type": "execute_result"
    }
   ],
   "source": [
    "X_balanced_df.shape, y_balanced_df.shape"
   ]
  },
  {
   "cell_type": "code",
   "execution_count": 30,
   "metadata": {},
   "outputs": [],
   "source": [
    "X_final_df = X_balanced_df.drop(labels=[\"dataset_id\"], axis=1)\n",
    "y_final_df = y_balanced_df.drop(labels=[\"dataset_id\"], axis=1)"
   ]
  },
  {
   "cell_type": "code",
   "execution_count": 31,
   "metadata": {},
   "outputs": [
    {
     "data": {
      "text/html": [
       "<div>\n",
       "<style>\n",
       "    .dataframe thead tr:only-child th {\n",
       "        text-align: right;\n",
       "    }\n",
       "\n",
       "    .dataframe thead th {\n",
       "        text-align: left;\n",
       "    }\n",
       "\n",
       "    .dataframe tbody tr th {\n",
       "        vertical-align: top;\n",
       "    }\n",
       "</style>\n",
       "<table border=\"1\" class=\"dataframe\">\n",
       "  <thead>\n",
       "    <tr style=\"text-align: right;\">\n",
       "      <th></th>\n",
       "      <th>layer_area_0</th>\n",
       "      <th>layer_area_1</th>\n",
       "      <th>layer_area_2</th>\n",
       "      <th>layer_contours_0</th>\n",
       "      <th>layer_contours_1</th>\n",
       "      <th>layer_distance_0</th>\n",
       "      <th>layer_distance_1</th>\n",
       "      <th>layer_distance_2</th>\n",
       "      <th>layer_distance_3</th>\n",
       "      <th>layer_distance_4</th>\n",
       "      <th>...</th>\n",
       "      <th>interlayer_pos_15</th>\n",
       "      <th>interlayer_pos_16</th>\n",
       "      <th>interlayer_pos_17</th>\n",
       "      <th>extremities0</th>\n",
       "      <th>extreme_infrared_0</th>\n",
       "      <th>extreme_infrared_1</th>\n",
       "      <th>extreme_infrared_2</th>\n",
       "      <th>extreme_infrared_3</th>\n",
       "      <th>extreme_infrared_4</th>\n",
       "      <th>extreme_infrared_5</th>\n",
       "    </tr>\n",
       "  </thead>\n",
       "  <tbody>\n",
       "    <tr>\n",
       "      <th>0</th>\n",
       "      <td>0.493197</td>\n",
       "      <td>0.362245</td>\n",
       "      <td>0.144558</td>\n",
       "      <td>3.0</td>\n",
       "      <td>3.0</td>\n",
       "      <td>26.5707</td>\n",
       "      <td>25.9422</td>\n",
       "      <td>26.9258</td>\n",
       "      <td>25.9422</td>\n",
       "      <td>180.5</td>\n",
       "      <td>...</td>\n",
       "      <td>-14.0</td>\n",
       "      <td>-33.0</td>\n",
       "      <td>-174.0</td>\n",
       "      <td>3.0</td>\n",
       "      <td>34.5</td>\n",
       "      <td>43.0</td>\n",
       "      <td>81.0</td>\n",
       "      <td>0.0</td>\n",
       "      <td>0.0</td>\n",
       "      <td>102.0</td>\n",
       "    </tr>\n",
       "    <tr>\n",
       "      <th>1</th>\n",
       "      <td>0.155372</td>\n",
       "      <td>0.598347</td>\n",
       "      <td>0.246281</td>\n",
       "      <td>3.0</td>\n",
       "      <td>3.0</td>\n",
       "      <td>13.1529</td>\n",
       "      <td>29.1548</td>\n",
       "      <td>23.0217</td>\n",
       "      <td>29.1548</td>\n",
       "      <td>326.0</td>\n",
       "      <td>...</td>\n",
       "      <td>-10.0</td>\n",
       "      <td>-26.0</td>\n",
       "      <td>-154.0</td>\n",
       "      <td>5.0</td>\n",
       "      <td>10.0</td>\n",
       "      <td>37.0</td>\n",
       "      <td>72.5</td>\n",
       "      <td>57.0</td>\n",
       "      <td>56.5</td>\n",
       "      <td>97.5</td>\n",
       "    </tr>\n",
       "    <tr>\n",
       "      <th>2</th>\n",
       "      <td>0.455904</td>\n",
       "      <td>0.393124</td>\n",
       "      <td>0.150972</td>\n",
       "      <td>3.0</td>\n",
       "      <td>3.0</td>\n",
       "      <td>26.4008</td>\n",
       "      <td>28.2312</td>\n",
       "      <td>29.6142</td>\n",
       "      <td>28.2312</td>\n",
       "      <td>224.5</td>\n",
       "      <td>...</td>\n",
       "      <td>-14.0</td>\n",
       "      <td>-33.0</td>\n",
       "      <td>-169.0</td>\n",
       "      <td>5.0</td>\n",
       "      <td>55.5</td>\n",
       "      <td>26.0</td>\n",
       "      <td>83.0</td>\n",
       "      <td>93.5</td>\n",
       "      <td>60.5</td>\n",
       "      <td>192.5</td>\n",
       "    </tr>\n",
       "    <tr>\n",
       "      <th>3</th>\n",
       "      <td>0.157895</td>\n",
       "      <td>0.441426</td>\n",
       "      <td>0.400679</td>\n",
       "      <td>3.0</td>\n",
       "      <td>3.0</td>\n",
       "      <td>12.3693</td>\n",
       "      <td>27.6586</td>\n",
       "      <td>25.3180</td>\n",
       "      <td>27.6586</td>\n",
       "      <td>226.5</td>\n",
       "      <td>...</td>\n",
       "      <td>-17.0</td>\n",
       "      <td>-27.0</td>\n",
       "      <td>-137.0</td>\n",
       "      <td>5.0</td>\n",
       "      <td>3.5</td>\n",
       "      <td>62.0</td>\n",
       "      <td>55.0</td>\n",
       "      <td>48.5</td>\n",
       "      <td>17.5</td>\n",
       "      <td>116.5</td>\n",
       "    </tr>\n",
       "    <tr>\n",
       "      <th>4</th>\n",
       "      <td>0.170498</td>\n",
       "      <td>0.419540</td>\n",
       "      <td>0.409962</td>\n",
       "      <td>3.0</td>\n",
       "      <td>3.0</td>\n",
       "      <td>13.0384</td>\n",
       "      <td>26.0768</td>\n",
       "      <td>25.0200</td>\n",
       "      <td>26.0768</td>\n",
       "      <td>189.5</td>\n",
       "      <td>...</td>\n",
       "      <td>-17.0</td>\n",
       "      <td>-24.0</td>\n",
       "      <td>-137.0</td>\n",
       "      <td>3.0</td>\n",
       "      <td>11.5</td>\n",
       "      <td>28.5</td>\n",
       "      <td>22.0</td>\n",
       "      <td>0.0</td>\n",
       "      <td>0.0</td>\n",
       "      <td>28.5</td>\n",
       "    </tr>\n",
       "  </tbody>\n",
       "</table>\n",
       "<p>5 rows × 72 columns</p>\n",
       "</div>"
      ],
      "text/plain": [
       "   layer_area_0  layer_area_1  layer_area_2  layer_contours_0  \\\n",
       "0      0.493197      0.362245      0.144558               3.0   \n",
       "1      0.155372      0.598347      0.246281               3.0   \n",
       "2      0.455904      0.393124      0.150972               3.0   \n",
       "3      0.157895      0.441426      0.400679               3.0   \n",
       "4      0.170498      0.419540      0.409962               3.0   \n",
       "\n",
       "   layer_contours_1  layer_distance_0  layer_distance_1  layer_distance_2  \\\n",
       "0               3.0           26.5707           25.9422           26.9258   \n",
       "1               3.0           13.1529           29.1548           23.0217   \n",
       "2               3.0           26.4008           28.2312           29.6142   \n",
       "3               3.0           12.3693           27.6586           25.3180   \n",
       "4               3.0           13.0384           26.0768           25.0200   \n",
       "\n",
       "   layer_distance_3  layer_distance_4         ...          interlayer_pos_15  \\\n",
       "0           25.9422             180.5         ...                      -14.0   \n",
       "1           29.1548             326.0         ...                      -10.0   \n",
       "2           28.2312             224.5         ...                      -14.0   \n",
       "3           27.6586             226.5         ...                      -17.0   \n",
       "4           26.0768             189.5         ...                      -17.0   \n",
       "\n",
       "   interlayer_pos_16  interlayer_pos_17  extremities0  extreme_infrared_0  \\\n",
       "0              -33.0             -174.0           3.0                34.5   \n",
       "1              -26.0             -154.0           5.0                10.0   \n",
       "2              -33.0             -169.0           5.0                55.5   \n",
       "3              -27.0             -137.0           5.0                 3.5   \n",
       "4              -24.0             -137.0           3.0                11.5   \n",
       "\n",
       "   extreme_infrared_1  extreme_infrared_2  extreme_infrared_3  \\\n",
       "0                43.0                81.0                 0.0   \n",
       "1                37.0                72.5                57.0   \n",
       "2                26.0                83.0                93.5   \n",
       "3                62.0                55.0                48.5   \n",
       "4                28.5                22.0                 0.0   \n",
       "\n",
       "   extreme_infrared_4  extreme_infrared_5  \n",
       "0                 0.0               102.0  \n",
       "1                56.5                97.5  \n",
       "2                60.5               192.5  \n",
       "3                17.5               116.5  \n",
       "4                 0.0                28.5  \n",
       "\n",
       "[5 rows x 72 columns]"
      ]
     },
     "execution_count": 31,
     "metadata": {},
     "output_type": "execute_result"
    }
   ],
   "source": [
    "X_final_df.head()"
   ]
  },
  {
   "cell_type": "code",
   "execution_count": 32,
   "metadata": {},
   "outputs": [
    {
     "data": {
      "text/html": [
       "<div>\n",
       "<style>\n",
       "    .dataframe thead tr:only-child th {\n",
       "        text-align: right;\n",
       "    }\n",
       "\n",
       "    .dataframe thead th {\n",
       "        text-align: left;\n",
       "    }\n",
       "\n",
       "    .dataframe tbody tr th {\n",
       "        vertical-align: top;\n",
       "    }\n",
       "</style>\n",
       "<table border=\"1\" class=\"dataframe\">\n",
       "  <thead>\n",
       "    <tr style=\"text-align: right;\">\n",
       "      <th></th>\n",
       "      <th>activity</th>\n",
       "    </tr>\n",
       "  </thead>\n",
       "  <tbody>\n",
       "    <tr>\n",
       "      <th>0</th>\n",
       "      <td>0</td>\n",
       "    </tr>\n",
       "    <tr>\n",
       "      <th>1</th>\n",
       "      <td>0</td>\n",
       "    </tr>\n",
       "    <tr>\n",
       "      <th>2</th>\n",
       "      <td>0</td>\n",
       "    </tr>\n",
       "    <tr>\n",
       "      <th>3</th>\n",
       "      <td>0</td>\n",
       "    </tr>\n",
       "    <tr>\n",
       "      <th>4</th>\n",
       "      <td>0</td>\n",
       "    </tr>\n",
       "  </tbody>\n",
       "</table>\n",
       "</div>"
      ],
      "text/plain": [
       "   activity\n",
       "0         0\n",
       "1         0\n",
       "2         0\n",
       "3         0\n",
       "4         0"
      ]
     },
     "execution_count": 32,
     "metadata": {},
     "output_type": "execute_result"
    }
   ],
   "source": [
    "y_final_df.head()"
   ]
  },
  {
   "cell_type": "code",
   "execution_count": 43,
   "metadata": {},
   "outputs": [],
   "source": [
    "X_final_csv = \"{d}/{tag}_X.csv\".format(d=DATA_OUTPUT_DIR, tag=\"v2\")\n",
    "y_final_csv = \"{d}/{tag}_y.csv\".format(d=DATA_OUTPUT_DIR, tag=\"v2\")"
   ]
  },
  {
   "cell_type": "code",
   "execution_count": 44,
   "metadata": {},
   "outputs": [],
   "source": [
    "X_final_file = open(X_final_csv, \"w\")\n",
    "y_final_file = open(y_final_csv, \"w\")\n",
    "X_final_df.to_csv(X_final_file, header=False, index=False)\n",
    "y_final_df.to_csv(y_final_file, header=False, index=False)\n",
    "X_final_file.close()\n",
    "y_final_file.close()"
   ]
  },
  {
   "cell_type": "code",
   "execution_count": 45,
   "metadata": {},
   "outputs": [],
   "source": [
    "def sample_test_split(X_df, y_df, train_ratio, seed=42):\n",
    "    \n",
    "    train_size = math.floor(len(X_df) * train_ratio)\n",
    "    \n",
    "    X_train_df = X_df.sample(train_size, replace=False, random_state=seed)\n",
    "    y_train_df = y_df.loc[X_train_df.index]\n",
    "    \n",
    "    X_test_df = X_df.loc[~X_df.index.isin(X_train_df.index)]\n",
    "    y_test_df = y_df.loc[X_test_df.index]\n",
    "    \n",
    "    X_train, y_train = X_train_df.values, y_train_df.values\n",
    "    X_test, y_test = X_test_df.values, y_test_df.values\n",
    "    \n",
    "    return X_train, y_train, X_test, y_test"
   ]
  },
  {
   "cell_type": "code",
   "execution_count": 77,
   "metadata": {},
   "outputs": [],
   "source": [
    "X, y = X_final_df.values, y_final_df.values"
   ]
  },
  {
   "cell_type": "code",
   "execution_count": 78,
   "metadata": {},
   "outputs": [],
   "source": [
    "X_train, y_train, X_test, y_test = sample_test_split(X_final_df, y_final_df, 7/10)"
   ]
  },
  {
   "cell_type": "code",
   "execution_count": 79,
   "metadata": {},
   "outputs": [
    {
     "data": {
      "text/plain": [
       "((5400, 72), (5400, 1))"
      ]
     },
     "execution_count": 79,
     "metadata": {},
     "output_type": "execute_result"
    }
   ],
   "source": [
    "X.shape, y.shape"
   ]
  },
  {
   "cell_type": "code",
   "execution_count": 47,
   "metadata": {},
   "outputs": [
    {
     "data": {
      "text/plain": [
       "((3779, 72), (3779, 1))"
      ]
     },
     "execution_count": 47,
     "metadata": {},
     "output_type": "execute_result"
    }
   ],
   "source": [
    "X_train.shape, y_train.shape"
   ]
  },
  {
   "cell_type": "code",
   "execution_count": 48,
   "metadata": {},
   "outputs": [
    {
     "data": {
      "text/plain": [
       "((1621, 72), (1621, 1))"
      ]
     },
     "execution_count": 48,
     "metadata": {},
     "output_type": "execute_result"
    }
   ],
   "source": [
    "X_test.shape, y_test.shape"
   ]
  },
  {
   "cell_type": "code",
   "execution_count": 49,
   "metadata": {},
   "outputs": [],
   "source": [
    "import xgboost as xgb\n",
    "from sklearn import metrics"
   ]
  },
  {
   "cell_type": "code",
   "execution_count": 57,
   "metadata": {},
   "outputs": [],
   "source": [
    "XGB_PARAM_FINAL = {}\n",
    "XGB_PARAM_FINAL[\"eta\"] = 0.3\n",
    "XGB_PARAM_FINAL[\"gamma\"] = 1\n",
    "XGB_PARAM_FINAL[\"lambda\"] = 1\n",
    "XGB_PARAM_FINAL[\"alpha\"] = 0\n",
    "XGB_PARAM_FINAL[\"max_depth\"] = 6\n",
    "XGB_PARAM_FINAL[\"colsample_bytree\"] = 0.5\n",
    "XGB_PARAM_FINAL[\"colsample_bylevel\"] = 0.5\n",
    "XGB_PARAM_FINAL[\"subsample\"] = 0.5\n",
    "XGB_PARAM_FINAL[\"objective\"] = \"multi:softmax\"\n",
    "XGB_PARAM_FINAL[\"eval_metric\"] = \"merror\"\n",
    "XGB_PARAM_FINAL[\"num_class\"] = len(ACTIVITIES)\n",
    "XGB_PARAM_FINAL[\"silent\"] = 0\n",
    "XGB_PARAM_FINAL[\"seed\"] = 42\n",
    "XGB_NUM_ROUNDS = 200\n",
    "XGB_EARLYSTOPPING_ROUNDS = 30"
   ]
  },
  {
   "cell_type": "code",
   "execution_count": 58,
   "metadata": {},
   "outputs": [],
   "source": [
    "train_xgbmatrix = xgb.DMatrix(X_train, y_train)\n",
    "test_xgbmatrix = xgb.DMatrix(X_test, y_test)\n",
    "watchlist = [(train_xgbmatrix, \"train\"), (test_xgbmatrix, \"eval\")]"
   ]
  },
  {
   "cell_type": "code",
   "execution_count": 59,
   "metadata": {},
   "outputs": [
    {
     "name": "stdout",
     "output_type": "stream",
     "text": [
      "[0]\ttrain-merror:0.365705\teval-merror:0.42628\n",
      "Multiple eval metrics have been passed: 'eval-merror' will be used for early stopping.\n",
      "\n",
      "Will train until eval-merror hasn't improved in 30 rounds.\n",
      "[100]\ttrain-merror:0.014554\teval-merror:0.164713\n",
      "Stopping. Best iteration:\n",
      "[106]\ttrain-merror:0.013496\teval-merror:0.159161\n",
      "\n"
     ]
    }
   ],
   "source": [
    "eval_results = {}\n",
    "validation = xgb.train(params=XGB_PARAM_FINAL, dtrain=train_xgbmatrix, evals=watchlist, evals_result=eval_results, \n",
    "                       num_boost_round=XGB_NUM_ROUNDS, early_stopping_rounds=XGB_EARLYSTOPPING_ROUNDS, verbose_eval=100)"
   ]
  },
  {
   "cell_type": "code",
   "execution_count": 65,
   "metadata": {},
   "outputs": [
    {
     "data": {
      "text/plain": [
       "107"
      ]
     },
     "execution_count": 65,
     "metadata": {},
     "output_type": "execute_result"
    }
   ],
   "source": [
    "validation.best_iteration+1"
   ]
  },
  {
   "cell_type": "code",
   "execution_count": 66,
   "metadata": {},
   "outputs": [],
   "source": [
    "booster = xgb.train(params=XGB_PARAM_FINAL, dtrain=train_xgbmatrix, num_boost_round=validation.best_iteration+1)"
   ]
  },
  {
   "cell_type": "code",
   "execution_count": 67,
   "metadata": {},
   "outputs": [],
   "source": [
    "y_predicted = booster.predict(test_xgbmatrix)"
   ]
  },
  {
   "cell_type": "code",
   "execution_count": 68,
   "metadata": {},
   "outputs": [],
   "source": [
    "accuracy = metrics.accuracy_score(y_test, y_predicted)"
   ]
  },
  {
   "cell_type": "code",
   "execution_count": 69,
   "metadata": {},
   "outputs": [
    {
     "data": {
      "text/plain": [
       "0.8408389882788402"
      ]
     },
     "execution_count": 69,
     "metadata": {},
     "output_type": "execute_result"
    }
   ],
   "source": [
    "accuracy"
   ]
  },
  {
   "cell_type": "code",
   "execution_count": 71,
   "metadata": {},
   "outputs": [],
   "source": [
    "def get_normalized_confusion_matrix(y_true, y_predicted):\n",
    "    confusion_matrix = metrics.confusion_matrix(y_true, y_predicted)\n",
    "    confusion_matrix_normalized = confusion_matrix.astype(\"float\") / confusion_matrix.sum(axis=1)[:, np.newaxis]\n",
    "    confusion_matrix_normalized *= 100\n",
    "    return confusion_matrix_normalized"
   ]
  },
  {
   "cell_type": "code",
   "execution_count": 72,
   "metadata": {},
   "outputs": [],
   "source": [
    "confusion_matrix = get_normalized_confusion_matrix(y_test, y_predicted)"
   ]
  },
  {
   "cell_type": "code",
   "execution_count": 73,
   "metadata": {},
   "outputs": [
    {
     "data": {
      "image/png": "[encoded data removed]",
      "text/plain": [
       "<matplotlib.figure.Figure at 0x1b0ddd0dc18>"
      ]
     },
     "metadata": {},
     "output_type": "display_data"
    }
   ],
   "source": [
    "fig, ax = plt.subplots(figsize=(10,7.5))\n",
    "sns.heatmap(data=confusion_matrix, annot=True, fmt=\".2f\", linewidths=1, square=True,\n",
    "            vmin=0, vmax=100, ax=ax, xticklabels=ACTIVITIES, yticklabels=ACTIVITIES, cmap=sns.cubehelix_palette(8))\n",
    "plt.yticks(rotation=0)\n",
    "sns.despine(top=False, right=False, left=False, bottom=False)"
   ]
  },
  {
   "cell_type": "code",
   "execution_count": 81,
   "metadata": {},
   "outputs": [],
   "source": [
    "all_dmatrix = xgb.DMatrix(X, y)"
   ]
  },
  {
   "cell_type": "code",
   "execution_count": 82,
   "metadata": {},
   "outputs": [],
   "source": [
    "final_booster = xgb.train(params=XGB_PARAM_FINAL, dtrain=all_dmatrix, num_boost_round=validation.best_iteration+1)"
   ]
  },
  {
   "cell_type": "code",
   "execution_count": 83,
   "metadata": {},
   "outputs": [],
   "source": [
    "final_booster.save_model(\"v2.model\")"
   ]
  }
 ],
 "metadata": {
  "kernelspec": {
   "display_name": "Python 3",
   "language": "python",
   "name": "python3"
  },
  "language_info": {
   "codemirror_mode": {
    "name": "ipython",
    "version": 3
   },
   "file_extension": ".py",
   "mimetype": "text/x-python",
   "name": "python",
   "nbconvert_exporter": "python",
   "pygments_lexer": "ipython3",
   "version": "3.6.3"
  }
 },
 "nbformat": 4,
 "nbformat_minor": 2
}
